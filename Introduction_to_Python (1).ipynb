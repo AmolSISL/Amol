{
  "nbformat": 4,
  "nbformat_minor": 0,
  "metadata": {
    "colab": {
      "provenance": [],
      "collapsed_sections": [
        "97p_34O1T8x1"
      ]
    },
    "kernelspec": {
      "name": "python3",
      "display_name": "Python 3"
    },
    "language_info": {
      "name": "python"
    }
  },
  "cells": [
    {
      "cell_type": "markdown",
      "source": [
        "Introduction to Python"
      ],
      "metadata": {
        "id": "5F7YhoDDqDtr"
      }
    },
    {
      "cell_type": "markdown",
      "source": [
        "Q. Supppose the store sold an Apple iphone (4GB, 128GB) for $900. Store this information in the variables price, brand, ram, and storage."
      ],
      "metadata": {
        "id": "9ludB_E4qlZy"
      }
    },
    {
      "cell_type": "code",
      "source": [
        "# store the price in dollars of the mobile in variable 'price'\n",
        "price = 900\n",
        "# print the value saved in the variable 'price'\n",
        "print(\"The price of the mobile is $\", price, sep=\"\")"
      ],
      "metadata": {
        "colab": {
          "base_uri": "https://localhost:8080/"
        },
        "id": "JC2rGAKCqdDB",
        "outputId": "d7f6f0e7-1c3f-4a36-880c-47d809e91fcd"
      },
      "execution_count": null,
      "outputs": [
        {
          "output_type": "stream",
          "name": "stdout",
          "text": [
            "The price of the mobile is $900\n"
          ]
        }
      ]
    },
    {
      "cell_type": "code",
      "source": [
        "# store the brand name of the mobile in variable 'brand'.\n",
        "brand = \"Apple\"\n",
        "# print the value saved in the variable 'brand'\n",
        "print(\"The brand of the mobile is\", brand)"
      ],
      "metadata": {
        "colab": {
          "base_uri": "https://localhost:8080/"
        },
        "id": "OXjuQi1frcSO",
        "outputId": "19607030-812f-4265-ff13-7c92e36bb400"
      },
      "execution_count": null,
      "outputs": [
        {
          "output_type": "stream",
          "name": "stdout",
          "text": [
            "The brand of the mobile is Apple\n"
          ]
        }
      ]
    },
    {
      "cell_type": "code",
      "source": [
        "# store the RAM (in GB) of the mobile in variable 'ram'\n",
        "ram = 4\n",
        "# print the value saved in the varaible 'ram'\n",
        "print(\"The RAM of the mobile is\", ram,\"GB\")"
      ],
      "metadata": {
        "colab": {
          "base_uri": "https://localhost:8080/"
        },
        "id": "hDqXLh_br_uY",
        "outputId": "2f445b43-6370-4ace-f247-18d424f06ae6"
      },
      "execution_count": null,
      "outputs": [
        {
          "output_type": "stream",
          "name": "stdout",
          "text": [
            "The RAM of the mobile is 4 GB\n"
          ]
        }
      ]
    },
    {
      "cell_type": "code",
      "source": [
        "# store the internal storage (in GB) of the mobile in variable 'storage'\n",
        "storage = 128\n",
        "# print the value saved in the varaible 'storage'\n",
        "print(\"The internal storage of the mobile is\", storage, \"GB\")"
      ],
      "metadata": {
        "colab": {
          "base_uri": "https://localhost:8080/"
        },
        "id": "Hx8iim0Tsc5E",
        "outputId": "98199517-af39-495e-a9d1-ba37c386c8b8"
      },
      "execution_count": null,
      "outputs": [
        {
          "output_type": "stream",
          "name": "stdout",
          "text": [
            "The internal storage of the mobile is 128 GB\n"
          ]
        }
      ]
    },
    {
      "cell_type": "markdown",
      "source": [
        "Q. Let's say the store wants to save the information on the billing status of the above phone in a boolean variable."
      ],
      "metadata": {
        "id": "1rhsuAT0vaLz"
      }
    },
    {
      "cell_type": "code",
      "source": [
        "# a special type of variable stores just True/False values.\n",
        "# create a boolean variable 'is_billed' to save the billing information\n",
        "\n",
        "is_billed = True\n",
        "print(is_billed)"
      ],
      "metadata": {
        "colab": {
          "base_uri": "https://localhost:8080/"
        },
        "id": "CJZ7N4JgtFBp",
        "outputId": "ebb6a22f-ff55-4fe5-eb59-0d72380be763"
      },
      "execution_count": null,
      "outputs": [
        {
          "output_type": "stream",
          "name": "stdout",
          "text": [
            "True\n"
          ]
        }
      ]
    },
    {
      "cell_type": "code",
      "source": [
        "False"
      ],
      "metadata": {
        "colab": {
          "base_uri": "https://localhost:8080/"
        },
        "id": "La79BGMVwSd2",
        "outputId": "76881ae3-9f43-426d-db3a-a0af1a6ec4f4"
      },
      "execution_count": null,
      "outputs": [
        {
          "output_type": "execute_result",
          "data": {
            "text/plain": [
              "False"
            ]
          },
          "metadata": {},
          "execution_count": 10
        }
      ]
    },
    {
      "cell_type": "markdown",
      "source": [
        "The value that we store in a variable can be number or a set of characters or a boolean variable (True/False). Whenever, we store a value in a variable, python automatically assigns a data type to that varaible based on the value."
      ],
      "metadata": {
        "id": "lNOJ1iYNwsb4"
      }
    },
    {
      "cell_type": "markdown",
      "source": [
        "Q. Check the data type using type function"
      ],
      "metadata": {
        "id": "5yMp81rjxdqa"
      }
    },
    {
      "cell_type": "code",
      "source": [
        "type(price)"
      ],
      "metadata": {
        "colab": {
          "base_uri": "https://localhost:8080/"
        },
        "id": "Yo-AEcS8wgmv",
        "outputId": "be80e34b-e313-46f2-a342-2b64baa6dc8e"
      },
      "execution_count": null,
      "outputs": [
        {
          "output_type": "execute_result",
          "data": {
            "text/plain": [
              "int"
            ]
          },
          "metadata": {},
          "execution_count": 11
        }
      ]
    },
    {
      "cell_type": "code",
      "source": [
        "type(brand)"
      ],
      "metadata": {
        "colab": {
          "base_uri": "https://localhost:8080/"
        },
        "id": "jqFSeN8mxmHi",
        "outputId": "a6a7c852-dc93-432a-f937-bfdaa8ce5981"
      },
      "execution_count": null,
      "outputs": [
        {
          "output_type": "execute_result",
          "data": {
            "text/plain": [
              "str"
            ]
          },
          "metadata": {},
          "execution_count": 12
        }
      ]
    },
    {
      "cell_type": "code",
      "source": [
        "type(ram)"
      ],
      "metadata": {
        "colab": {
          "base_uri": "https://localhost:8080/"
        },
        "id": "LO5B5MiUxoA7",
        "outputId": "41f79878-8556-4668-eace-ef17764c640a"
      },
      "execution_count": null,
      "outputs": [
        {
          "output_type": "execute_result",
          "data": {
            "text/plain": [
              "int"
            ]
          },
          "metadata": {},
          "execution_count": 13
        }
      ]
    },
    {
      "cell_type": "code",
      "source": [
        "type(storage)"
      ],
      "metadata": {
        "colab": {
          "base_uri": "https://localhost:8080/"
        },
        "id": "PHboTP64xp0D",
        "outputId": "2dacdd18-55c1-4fdd-f0a8-a9fde6b0f342"
      },
      "execution_count": null,
      "outputs": [
        {
          "output_type": "execute_result",
          "data": {
            "text/plain": [
              "int"
            ]
          },
          "metadata": {},
          "execution_count": 14
        }
      ]
    },
    {
      "cell_type": "markdown",
      "source": [
        "Q. Let's say a customer buys two Apple iPhones (4 GB, 128 GB)at a price of $900 each. What will be the total bill that the customer has to pay?"
      ],
      "metadata": {
        "id": "TbhfOZvAx6RR"
      }
    },
    {
      "cell_type": "code",
      "source": [
        "# Calculate the total bill and store it in variable 'bill'\n",
        "bill = price + price\n",
        "# Alternatively\n",
        "bill = price*2\n",
        "print(\"The bill amount is $\", bill, sep=\"\")"
      ],
      "metadata": {
        "colab": {
          "base_uri": "https://localhost:8080/"
        },
        "id": "5dM8AKsExs0f",
        "outputId": "8c4b2a6b-1469-464b-8bc2-c628f46570bd"
      },
      "execution_count": null,
      "outputs": [
        {
          "output_type": "stream",
          "name": "stdout",
          "text": [
            "The bill amount is $1800\n"
          ]
        }
      ]
    },
    {
      "cell_type": "markdown",
      "source": [
        "Q. Let's say the store provides a discount of 15 dollar on the Apple iPhone (4GB and 128GB) that costs $900. What will be the price of iPhone after the discount?"
      ],
      "metadata": {
        "id": "6FlYTNEcy6jy"
      }
    },
    {
      "cell_type": "code",
      "source": [
        "# store the price of the mobile in variable 'price'\n",
        "price = 900\n",
        "# store the discount amount in variable 'discount'\n",
        "discount = 15\n",
        "# calculate the discounted price\n",
        "price_after_discount = 900-15\n",
        "print(\"price of the iPhone after the discount is $\", price_after_discount, sep=\"\")"
      ],
      "metadata": {
        "colab": {
          "base_uri": "https://localhost:8080/"
        },
        "id": "mqvzSq2myZmm",
        "outputId": "2cfa9da9-0970-40d8-db71-e109feadf936"
      },
      "execution_count": null,
      "outputs": [
        {
          "output_type": "stream",
          "name": "stdout",
          "text": [
            "price of the iPhone after the discount is $885\n"
          ]
        }
      ]
    },
    {
      "cell_type": "markdown",
      "source": [
        "Q. Let's say a customer buys two Apply iPhones and pays a total bill of $1800. Write the Python code to find the price of an Apple iPhone"
      ],
      "metadata": {
        "id": "I9zs3vOz2X-u"
      }
    },
    {
      "cell_type": "code",
      "source": [
        "# Store the bill of two Apple iPhone in variable 'bill'\n",
        "bill = 1800\n",
        "# calculate the price of one mobile phone\n",
        "price = bill / 2\n",
        "print(\"The price of an Apple iPhone is $\", price, sep=\"\")"
      ],
      "metadata": {
        "colab": {
          "base_uri": "https://localhost:8080/"
        },
        "id": "ghh9ARDP0UIj",
        "outputId": "70697dcf-79d6-43db-b4ba-d9a1922f55a7"
      },
      "execution_count": null,
      "outputs": [
        {
          "output_type": "stream",
          "name": "stdout",
          "text": [
            "The price of an Apple iPhone is $900.0\n"
          ]
        }
      ]
    },
    {
      "cell_type": "markdown",
      "source": [
        "Q. Let's say a customer buys x number of Apple iPhones for $900 each. The total bill that the customer pays is 3600 dollar. Write the Python code to find the value x"
      ],
      "metadata": {
        "id": "9IC-VZrD3av2"
      }
    },
    {
      "cell_type": "code",
      "source": [
        "# store the bill of the mobile in variable 'bill'\n",
        "bill = 3600\n",
        "# store the price of the mobile in varaible 'price'\n",
        "price = 900\n",
        "# calculate the number of iPhones that the customer buys\n",
        "x = bill // price\n",
        "# double divided forces the answer to be an Ineger!\n",
        "print(\"The customer buys\", x, \"Apple iPhones\")"
      ],
      "metadata": {
        "colab": {
          "base_uri": "https://localhost:8080/"
        },
        "id": "KhsFYaeU3DYy",
        "outputId": "c6da4179-6596-46b4-dd24-499a42545190"
      },
      "execution_count": null,
      "outputs": [
        {
          "output_type": "stream",
          "name": "stdout",
          "text": [
            "The customer buys 4 Apple iPhones\n"
          ]
        }
      ]
    },
    {
      "cell_type": "markdown",
      "source": [
        "Q. Suppose the store plans to provide a 4.5% discount on the Apple iPhone. What will be the discounted price of the mobile?\n",
        "\n",
        "Type conversion: The process of converting one data type to another data type is called type conversion.\n",
        "\n",
        "In Python, we can perform two types of type conversion.\n",
        "\n",
        "  1. Implicit Type conversion - Here Python automatically converts one data type to another in order to avoid data loss.\n",
        "  2. Explicit Type conversion - Here, the user can convert the data type of a variable to the required data type by using the in-built functions int(), float(), str() etc.\n",
        "\n"
      ],
      "metadata": {
        "id": "97p_34O1T8x1"
      }
    },
    {
      "cell_type": "code",
      "source": [
        "# store the price of the mobile in varaible 'price'\n",
        "price = 900\n",
        "# calculate the discount amount\n",
        "discount = price * 0.045\n",
        "# Calculate the discounted price\n",
        "dicounted_price = price - discount\n",
        "print(\"The discounted price of the iPhone is $\", str(dicounted_price), sep=\"\")"
      ],
      "metadata": {
        "colab": {
          "base_uri": "https://localhost:8080/"
        },
        "id": "95LEKWOL4fGt",
        "outputId": "f1ea7f26-fcf4-4c87-c48a-bfaf09cc1713"
      },
      "execution_count": null,
      "outputs": [
        {
          "output_type": "stream",
          "name": "stdout",
          "text": [
            "The discounted price of the iPhone is $859.5\n"
          ]
        }
      ]
    },
    {
      "cell_type": "code",
      "source": [
        "type(dicounted_price)"
      ],
      "metadata": {
        "colab": {
          "base_uri": "https://localhost:8080/"
        },
        "id": "iyRQhbYYWiiO",
        "outputId": "cf0b57d6-1896-4fd9-b59e-d21d11cae2a3"
      },
      "execution_count": null,
      "outputs": [
        {
          "output_type": "execute_result",
          "data": {
            "text/plain": [
              "float"
            ]
          },
          "metadata": {},
          "execution_count": 34
        }
      ]
    },
    {
      "cell_type": "code",
      "source": [
        "type(price)"
      ],
      "metadata": {
        "colab": {
          "base_uri": "https://localhost:8080/"
        },
        "id": "Wegb--c0W6kc",
        "outputId": "c64c0c80-e899-4297-e30b-2d67a03a48f1"
      },
      "execution_count": null,
      "outputs": [
        {
          "output_type": "execute_result",
          "data": {
            "text/plain": [
              "int"
            ]
          },
          "metadata": {},
          "execution_count": 35
        }
      ]
    },
    {
      "cell_type": "code",
      "source": [
        "type(discount)"
      ],
      "metadata": {
        "colab": {
          "base_uri": "https://localhost:8080/"
        },
        "id": "jc_ZmUNjXj6k",
        "outputId": "444e8c49-a2ea-4a87-a69f-5c02255ea459"
      },
      "execution_count": null,
      "outputs": [
        {
          "output_type": "execute_result",
          "data": {
            "text/plain": [
              "float"
            ]
          },
          "metadata": {},
          "execution_count": 36
        }
      ]
    },
    {
      "cell_type": "code",
      "source": [
        "print(brand + \" \" + str(ram) + \"GB\")"
      ],
      "metadata": {
        "colab": {
          "base_uri": "https://localhost:8080/"
        },
        "id": "vnuv_EhQYzMJ",
        "outputId": "1df84ff0-5386-444d-810a-a17da47deae5"
      },
      "execution_count": null,
      "outputs": [
        {
          "output_type": "stream",
          "name": "stdout",
          "text": [
            "Apple 4GB\n"
          ]
        }
      ]
    },
    {
      "cell_type": "code",
      "source": [
        "Brand = \"Apple\"\n",
        "print(Brand)"
      ],
      "metadata": {
        "colab": {
          "base_uri": "https://localhost:8080/"
        },
        "id": "uTtj_6qIY6nf",
        "outputId": "11fd9ae9-eb9f-4edd-af5f-17f023cbb44a"
      },
      "execution_count": null,
      "outputs": [
        {
          "output_type": "stream",
          "name": "stdout",
          "text": [
            "Apple\n"
          ]
        }
      ]
    },
    {
      "cell_type": "markdown",
      "source": [
        "We know how to create a variable to store the Brand name"
      ],
      "metadata": {
        "id": "9RoG6wiz5lee"
      }
    },
    {
      "cell_type": "markdown",
      "source": [
        "### List"
      ],
      "metadata": {
        "id": "_tksMNMH6BCc"
      }
    },
    {
      "cell_type": "markdown",
      "source": [
        "MobiWorld store has provided a snapshot of the details of mobile phones sold by them."
      ],
      "metadata": {
        "id": "6gZuQtOn5XyH"
      }
    },
    {
      "cell_type": "markdown",
      "source": [
        "![image.png](data:image/png;base64,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)"
      ],
      "metadata": {
        "id": "Yqkmwxs34Y_d"
      }
    },
    {
      "cell_type": "markdown",
      "source": [
        "Let's create a variable that will store all the brand names given in the above table. This can be achive using the 'list' data structure"
      ],
      "metadata": {
        "id": "xq_0_7KO6JD0"
      }
    },
    {
      "cell_type": "code",
      "source": [
        "# create a list\n",
        "brand_list = [\"Apple\", \"Samsung\", \"LG\", \"Apple\"]\n",
        "brand_list"
      ],
      "metadata": {
        "colab": {
          "base_uri": "https://localhost:8080/"
        },
        "id": "EuHHNLX95wJH",
        "outputId": "636f6676-5505-4459-b514-7404c70a9d32"
      },
      "execution_count": null,
      "outputs": [
        {
          "output_type": "execute_result",
          "data": {
            "text/plain": [
              "['Apple', 'Samsung', 'LG', 'Apple']"
            ]
          },
          "metadata": {},
          "execution_count": 51
        }
      ]
    },
    {
      "cell_type": "code",
      "source": [
        "type(brand_list)"
      ],
      "metadata": {
        "colab": {
          "base_uri": "https://localhost:8080/"
        },
        "id": "vopBFhjc6vRK",
        "outputId": "37dd96d3-71a1-4aa2-bc62-cf1e2de8feee"
      },
      "execution_count": null,
      "outputs": [
        {
          "output_type": "execute_result",
          "data": {
            "text/plain": [
              "list"
            ]
          },
          "metadata": {},
          "execution_count": 52
        }
      ]
    },
    {
      "cell_type": "markdown",
      "source": [
        "Let's create a list for other attributes as well"
      ],
      "metadata": {
        "id": "nfIRG0TL65-0"
      }
    },
    {
      "cell_type": "code",
      "source": [
        "ram_list = [4, 12, 8, 8]\n",
        "storage_list = [128, 128, 64, 128]\n",
        "price_list = [900, 899, 600, 1000]"
      ],
      "metadata": {
        "id": "DwS_2Ke562ju"
      },
      "execution_count": null,
      "outputs": []
    },
    {
      "cell_type": "code",
      "source": [
        "# Let's print the list that we have created\n",
        "\n",
        "print(\"Ram List:\", ram_list)\n",
        "print(\"Storage List:\", storage_list)\n",
        "print(\"Price List:\", price_list)"
      ],
      "metadata": {
        "colab": {
          "base_uri": "https://localhost:8080/"
        },
        "id": "HVNubMB77Yok",
        "outputId": "26e197bc-0a74-4f29-a40e-e16817db5f74"
      },
      "execution_count": null,
      "outputs": [
        {
          "output_type": "stream",
          "name": "stdout",
          "text": [
            "Ram List: [4, 12, 8, 8]\n",
            "Storage List: [128, 128, 64, 128]\n",
            "Price List: [900, 899, 600, 1000]\n"
          ]
        }
      ]
    },
    {
      "cell_type": "code",
      "source": [
        "# How many records are stored in the brand_list\n",
        "len(brand_list)"
      ],
      "metadata": {
        "colab": {
          "base_uri": "https://localhost:8080/"
        },
        "id": "3gqnveqo8Fuu",
        "outputId": "647c1fbe-4355-4f41-8774-a7b37eb0f885"
      },
      "execution_count": null,
      "outputs": [
        {
          "output_type": "execute_result",
          "data": {
            "text/plain": [
              "4"
            ]
          },
          "metadata": {},
          "execution_count": 56
        }
      ]
    },
    {
      "cell_type": "code",
      "source": [
        "print(brand_list)"
      ],
      "metadata": {
        "colab": {
          "base_uri": "https://localhost:8080/"
        },
        "id": "0AOHQ6srGRpV",
        "outputId": "7ca50e72-ebb1-4f0a-bbe4-9b12d88fc31f"
      },
      "execution_count": null,
      "outputs": [
        {
          "output_type": "stream",
          "name": "stdout",
          "text": [
            "['Apple', 'Samsung', 'LG', 'Apple']\n"
          ]
        }
      ]
    },
    {
      "cell_type": "markdown",
      "source": [
        "Q. Find the minimum and maximum price among the mobile phones sold by the store."
      ],
      "metadata": {
        "id": "ud_Fi-lIGeJt"
      }
    },
    {
      "cell_type": "markdown",
      "source": [
        "\n",
        "\n",
        "*   min() and max() are in-built functions in Python that calculates the minimum and maximum values among the items in the list\n",
        "\n"
      ],
      "metadata": {
        "id": "aO8rivDxGrSG"
      }
    },
    {
      "cell_type": "code",
      "source": [
        "# minimum price\n",
        "min_price = min(price_list)\n",
        "print(\"The minimum price is $\" + str(min_price))\n",
        "\n",
        "# maximum price\n",
        "max_price = max(price_list)\n",
        "print(\"The maximum price is $\" + str(max_price))"
      ],
      "metadata": {
        "colab": {
          "base_uri": "https://localhost:8080/"
        },
        "id": "1CrDs1FNGZgc",
        "outputId": "713f6bc5-7177-4ca1-a313-e314fbe45736"
      },
      "execution_count": null,
      "outputs": [
        {
          "output_type": "stream",
          "name": "stdout",
          "text": [
            "The minimum price is $600\n",
            "The maximum price is $1000\n"
          ]
        }
      ]
    },
    {
      "cell_type": "markdown",
      "source": [
        "Q. Print the third item in the list ram_list."
      ],
      "metadata": {
        "id": "7gQ2ygUBIZqn"
      }
    },
    {
      "cell_type": "code",
      "source": [
        "print(ram_list)"
      ],
      "metadata": {
        "colab": {
          "base_uri": "https://localhost:8080/"
        },
        "id": "qVvwLLMNHJqR",
        "outputId": "7cb8e297-0f86-40a6-b738-c1aacc4ba13a"
      },
      "execution_count": null,
      "outputs": [
        {
          "output_type": "stream",
          "name": "stdout",
          "text": [
            "[4, 12, 8, 8]\n"
          ]
        }
      ]
    },
    {
      "cell_type": "code",
      "source": [
        "# indexing to get third item in the ram_list\n",
        "print(ram_list[2])"
      ],
      "metadata": {
        "colab": {
          "base_uri": "https://localhost:8080/"
        },
        "id": "2WO5kVEYIofR",
        "outputId": "d9bb170d-68c2-49cf-fa10-b3531b74b6ac"
      },
      "execution_count": null,
      "outputs": [
        {
          "output_type": "stream",
          "name": "stdout",
          "text": [
            "8\n"
          ]
        }
      ]
    },
    {
      "cell_type": "markdown",
      "source": [
        "Q. Print the first three items from the list price_list"
      ],
      "metadata": {
        "id": "n8CluJ78I574"
      }
    },
    {
      "cell_type": "markdown",
      "source": [
        "\n",
        "\n",
        "*   We can also select a range of indices to access more than 1 item.\n",
        "\n"
      ],
      "metadata": {
        "id": "cNSzdzKlJEUw"
      }
    },
    {
      "cell_type": "code",
      "source": [
        "# first three item in the price list\n",
        "print(price_list[0:3])"
      ],
      "metadata": {
        "colab": {
          "base_uri": "https://localhost:8080/"
        },
        "id": "_WHl43veIx4N",
        "outputId": "a6d3d24c-f6d4-4d15-f912-2ab817c15676"
      },
      "execution_count": null,
      "outputs": [
        {
          "output_type": "stream",
          "name": "stdout",
          "text": [
            "[900, 899, 600]\n"
          ]
        }
      ]
    },
    {
      "cell_type": "code",
      "source": [
        "print(price_list)"
      ],
      "metadata": {
        "colab": {
          "base_uri": "https://localhost:8080/"
        },
        "id": "8IwWAbb-JW1p",
        "outputId": "1969f260-dcdb-4124-f978-afcffb3791b1"
      },
      "execution_count": null,
      "outputs": [
        {
          "output_type": "stream",
          "name": "stdout",
          "text": [
            "[900, 899, 600, 1000]\n"
          ]
        }
      ]
    },
    {
      "cell_type": "markdown",
      "source": [
        "Q. Print the last item in the list brand_list."
      ],
      "metadata": {
        "id": "e8BmB2V5Jomd"
      }
    },
    {
      "cell_type": "markdown",
      "source": [
        "\n",
        "\n",
        "*   The item can also be accessed using indexing. But, if the list is too large, counting the index for the last item may not be the best way.\n",
        "Here is how the last item can be accessed for any list\n",
        "\n"
      ],
      "metadata": {
        "id": "blvVdci-Jv74"
      }
    },
    {
      "cell_type": "code",
      "source": [
        "# last item in the brand_list\n",
        "print(brand_list[-1])"
      ],
      "metadata": {
        "colab": {
          "base_uri": "https://localhost:8080/"
        },
        "id": "bgmbrxMcJZRO",
        "outputId": "79e66909-386f-4128-8949-8ccad4a82c4e"
      },
      "execution_count": null,
      "outputs": [
        {
          "output_type": "stream",
          "name": "stdout",
          "text": [
            "Apple\n"
          ]
        }
      ]
    },
    {
      "cell_type": "code",
      "source": [
        "print(brand_list)"
      ],
      "metadata": {
        "colab": {
          "base_uri": "https://localhost:8080/"
        },
        "id": "Pccz6bvfKWTI",
        "outputId": "edc8291f-b945-4d25-a9be-caf94c7ff638"
      },
      "execution_count": null,
      "outputs": [
        {
          "output_type": "stream",
          "name": "stdout",
          "text": [
            "['Apple', 'Samsung', 'LG', 'Apple']\n"
          ]
        }
      ]
    },
    {
      "cell_type": "markdown",
      "source": [
        "Q. Remove the last element from the list brand_list."
      ],
      "metadata": {
        "id": "dUybiQuTKy7Q"
      }
    },
    {
      "cell_type": "markdown",
      "source": [
        "\n",
        "\n",
        "*   pop() is a list method that removes the item at the given index and return the removed item. If the index is not specified, by default, it removes the last element.\n",
        "\n"
      ],
      "metadata": {
        "id": "AT87c19BK8RH"
      }
    },
    {
      "cell_type": "code",
      "source": [
        "brand_list.pop()"
      ],
      "metadata": {
        "colab": {
          "base_uri": "https://localhost:8080/",
          "height": 36
        },
        "id": "xnt16VaRKnpO",
        "outputId": "c262d96c-5e4f-4719-a903-87af38ad36e3"
      },
      "execution_count": null,
      "outputs": [
        {
          "output_type": "execute_result",
          "data": {
            "text/plain": [
              "'Apple'"
            ],
            "application/vnd.google.colaboratory.intrinsic+json": {
              "type": "string"
            }
          },
          "metadata": {},
          "execution_count": 70
        }
      ]
    },
    {
      "cell_type": "code",
      "source": [
        "brand_list"
      ],
      "metadata": {
        "colab": {
          "base_uri": "https://localhost:8080/"
        },
        "id": "99LEJ_ShLbzc",
        "outputId": "3a0ce608-7911-4790-d97c-93bdce561e49"
      },
      "execution_count": null,
      "outputs": [
        {
          "output_type": "execute_result",
          "data": {
            "text/plain": [
              "['Apple', 'Samsung', 'LG']"
            ]
          },
          "metadata": {},
          "execution_count": 72
        }
      ]
    },
    {
      "cell_type": "markdown",
      "source": [
        "Last element got removed by using pop(). Now, the Store informs that the correct brand name should be 'Motorola'."
      ],
      "metadata": {
        "id": "IxVRYkIELtVW"
      }
    },
    {
      "cell_type": "markdown",
      "source": [
        "Q. Insert 'Motorola' to the list brand_list"
      ],
      "metadata": {
        "id": "InXd8FP0MId2"
      }
    },
    {
      "cell_type": "markdown",
      "source": [
        "\n",
        "\n",
        "*   The append() method adds a single item to an existing list.\n",
        "\n"
      ],
      "metadata": {
        "id": "mqHkR0HqMRvh"
      }
    },
    {
      "cell_type": "code",
      "source": [
        "brand_list.append(\"Motorola\")"
      ],
      "metadata": {
        "id": "d-WpsiqNLZTU"
      },
      "execution_count": null,
      "outputs": []
    },
    {
      "cell_type": "code",
      "source": [
        "brand_list"
      ],
      "metadata": {
        "colab": {
          "base_uri": "https://localhost:8080/"
        },
        "id": "lZvF_ekJMicj",
        "outputId": "f470062a-7af9-420f-e455-e5416f9bf85d"
      },
      "execution_count": null,
      "outputs": [
        {
          "output_type": "execute_result",
          "data": {
            "text/plain": [
              "['Apple', 'Samsung', 'LG', 'Motorola']"
            ]
          },
          "metadata": {},
          "execution_count": 74
        }
      ]
    },
    {
      "cell_type": "code",
      "source": [
        "brand_list[3] = \"Apple\"\n",
        "print(brand_list)"
      ],
      "metadata": {
        "colab": {
          "base_uri": "https://localhost:8080/"
        },
        "id": "Y6eeae3nMkUe",
        "outputId": "1ca5524e-04ff-4866-8792-2a5d92a3236b"
      },
      "execution_count": null,
      "outputs": [
        {
          "output_type": "stream",
          "name": "stdout",
          "text": [
            "['Apple', 'Samsung', 'LG', 'Apple']\n"
          ]
        }
      ]
    },
    {
      "cell_type": "code",
      "source": [
        "brand_list[3] = \"Motorola\"\n",
        "print(brand_list)"
      ],
      "metadata": {
        "colab": {
          "base_uri": "https://localhost:8080/"
        },
        "id": "KMn-lVLpMzYm",
        "outputId": "29180721-0b9c-4675-f2cb-f1444764c327"
      },
      "execution_count": null,
      "outputs": [
        {
          "output_type": "stream",
          "name": "stdout",
          "text": [
            "['Apple', 'Samsung', 'LG', 'Motorola']\n"
          ]
        }
      ]
    },
    {
      "cell_type": "markdown",
      "source": [
        "We have successfully corrected the list now"
      ],
      "metadata": {
        "id": "RgJbHT0pRtnZ"
      }
    },
    {
      "cell_type": "markdown",
      "source": [
        "# *Tuple*"
      ],
      "metadata": {
        "id": "3hfD1saoS3AP"
      }
    },
    {
      "cell_type": "markdown",
      "source": [
        "Now that we have learnt about lists, you know that data can be modified and altered in a list, making it a mutable data structure. Sometimes, you might wanto to store the data which should not be altered, for example storage. The storage in mobile phone is in terms of powers of 2, that is 32 GB, 64GB, 128 GB etc. You do not want to alter the number 32 and change it to 30"
      ],
      "metadata": {
        "id": "pOIEKjUvTGkc"
      }
    },
    {
      "cell_type": "markdown",
      "source": [
        "Q. Store the storage specification 32/64/128/256 as an immutable varaibles"
      ],
      "metadata": {
        "id": "JQjF0zSXVAH6"
      }
    },
    {
      "cell_type": "code",
      "source": [
        "storage = (32, 64, 128, 256)\n",
        "print(storage)"
      ],
      "metadata": {
        "colab": {
          "base_uri": "https://localhost:8080/"
        },
        "id": "w7rwjmLITBkl",
        "outputId": "e2c9db30-41f9-4240-d57c-593782b39f44"
      },
      "execution_count": null,
      "outputs": [
        {
          "output_type": "stream",
          "name": "stdout",
          "text": [
            "(32, 64, 128, 256)\n"
          ]
        }
      ]
    },
    {
      "cell_type": "code",
      "source": [
        "type(storage)"
      ],
      "metadata": {
        "colab": {
          "base_uri": "https://localhost:8080/"
        },
        "id": "qvfAKX2sVQ_x",
        "outputId": "1d83e8f5-f465-43e8-e0e4-4230b717084f"
      },
      "execution_count": null,
      "outputs": [
        {
          "output_type": "execute_result",
          "data": {
            "text/plain": [
              "tuple"
            ]
          },
          "metadata": {},
          "execution_count": 78
        }
      ]
    },
    {
      "cell_type": "markdown",
      "source": [
        "Q. Print the second item in the tuple storage"
      ],
      "metadata": {
        "id": "cfv5wdsXVzJr"
      }
    },
    {
      "cell_type": "code",
      "source": [
        "print(storage[1])"
      ],
      "metadata": {
        "colab": {
          "base_uri": "https://localhost:8080/"
        },
        "id": "xSjQz25_VV0g",
        "outputId": "467ca960-5546-4cc6-9987-04c503bcd4ba"
      },
      "execution_count": null,
      "outputs": [
        {
          "output_type": "stream",
          "name": "stdout",
          "text": [
            "64\n"
          ]
        }
      ]
    },
    {
      "cell_type": "markdown",
      "source": [
        "Let's try changing the second item to 60 and see if it works"
      ],
      "metadata": {
        "id": "PqnO9MiEV_K5"
      }
    },
    {
      "cell_type": "markdown",
      "source": [],
      "metadata": {
        "id": "yUT1qUE2e_67"
      }
    },
    {
      "cell_type": "markdown",
      "source": [
        "\n",
        "\n",
        "```\n",
        "# This is formatted as code\n",
        "```\n",
        "\n",
        "# Dictionary"
      ],
      "metadata": {
        "id": "KBPV_Pi9fCGB"
      }
    },
    {
      "cell_type": "markdown",
      "source": [
        "Lists are great for storing data for a single attribute. But, we might want to add more information about the items in a variable. Suppose the store wants to store the attributes brand, ram, storage, and price in a single variable."
      ],
      "metadata": {
        "id": "9qDVQgJVfKy-"
      }
    },
    {
      "cell_type": "markdown",
      "source": [
        "Q. Store the attribute of an Apple iphone (4GB, 128GB) of price of $800 in a single variable"
      ],
      "metadata": {
        "id": "cggQrAL0fkrO"
      }
    },
    {
      "cell_type": "code",
      "source": [
        "# create a dictionary\n",
        "attributes = {\n",
        "    \"Brand\": \"Apple\",\n",
        "    \"RAM (in GB)\": 4,\n",
        "    \"Storage (in GB)\": 128,\n",
        "    \"Price (in $)\": 800,\n",
        "}\n",
        "print(attributes)"
      ],
      "metadata": {
        "colab": {
          "base_uri": "https://localhost:8080/"
        },
        "id": "crMa9FxuWPMS",
        "outputId": "edc3e9a0-e808-4c94-f581-0932a594a7f3"
      },
      "execution_count": null,
      "outputs": [
        {
          "output_type": "stream",
          "name": "stdout",
          "text": [
            "{'Brand': 'Apple', 'RAM (in GB)': 4, 'Storage (in GB)': 128, 'Price (in $)': 800}\n"
          ]
        }
      ]
    },
    {
      "cell_type": "code",
      "source": [
        "type(attributes)"
      ],
      "metadata": {
        "colab": {
          "base_uri": "https://localhost:8080/"
        },
        "id": "Ere4MlSEgX-F",
        "outputId": "3b205de7-c5e7-41e4-bd9f-3e0a7ace0637"
      },
      "execution_count": null,
      "outputs": [
        {
          "output_type": "execute_result",
          "data": {
            "text/plain": [
              "dict"
            ]
          },
          "metadata": {},
          "execution_count": 82
        }
      ]
    },
    {
      "cell_type": "markdown",
      "source": [
        "Q. Extract the price from the dictionary"
      ],
      "metadata": {
        "id": "JvCO4-orgnUw"
      }
    },
    {
      "cell_type": "code",
      "source": [
        "print(attributes[\"Price (in $)\"])"
      ],
      "metadata": {
        "colab": {
          "base_uri": "https://localhost:8080/"
        },
        "id": "jZHZEALxgdc-",
        "outputId": "1d3af6fa-d284-4a47-a379-fc94be01a17f"
      },
      "execution_count": null,
      "outputs": [
        {
          "output_type": "stream",
          "name": "stdout",
          "text": [
            "800\n"
          ]
        }
      ]
    },
    {
      "cell_type": "markdown",
      "source": [
        "Q. Change the price in attributes to 900"
      ],
      "metadata": {
        "id": "SKd4mU06g8Bp"
      }
    },
    {
      "cell_type": "code",
      "source": [
        "attributes[\"Price (in $)\"] = 900\n",
        "print(attributes)"
      ],
      "metadata": {
        "colab": {
          "base_uri": "https://localhost:8080/"
        },
        "id": "jtbzWsl9gz4C",
        "outputId": "9022f6cb-4b32-4b4f-dacb-297541c65969"
      },
      "execution_count": null,
      "outputs": [
        {
          "output_type": "stream",
          "name": "stdout",
          "text": [
            "{'Brand': 'Apple', 'RAM (in GB)': 4, 'Storage (in GB)': 128, 'Price (in $)': 900}\n"
          ]
        }
      ]
    },
    {
      "cell_type": "markdown",
      "source": [
        "We have seen how to create a dictionary, let's store data for multiple mobile phones in it. The value in a disctionary can also be a list to store information for more than one product."
      ],
      "metadata": {
        "id": "Q8Pc58echXIW"
      }
    },
    {
      "cell_type": "markdown",
      "source": [
        "Q. Create a dictionary **products for storing the attributes of 4 different mobile phones.**"
      ],
      "metadata": {
        "id": "NykNfsRVhyDe"
      }
    },
    {
      "cell_type": "code",
      "source": [
        "# creating a dictionary for storing data.\n",
        "products = {\n",
        "    \"Brand\": brand_list,\n",
        "    \"RAM (in GB)\": ram_list,\n",
        "    \"Storage (in GB)\": storage_list,\n",
        "    \"Price (in $)\": price_list,\n",
        "}\n",
        "print(products)"
      ],
      "metadata": {
        "colab": {
          "base_uri": "https://localhost:8080/"
        },
        "id": "IxXnXj3lhJ_R",
        "outputId": "4864d005-897c-4bb9-ba1d-429f8901949b"
      },
      "execution_count": null,
      "outputs": [
        {
          "output_type": "stream",
          "name": "stdout",
          "text": [
            "{'Brand': ['Apple', 'Samsung', 'LG', 'Motorola'], 'RAM (in GB)': [4, 12, 8, 8], 'Storage (in GB)': [128, 128, 64, 128], 'Price (in $)': [900, 899, 600, 1000]}\n"
          ]
        }
      ]
    },
    {
      "cell_type": "markdown",
      "source": [
        "Using a dictionary, we have stored a lot of information in a single varaible"
      ],
      "metadata": {
        "id": "cwqoiNhMi_Z_"
      }
    },
    {
      "cell_type": "markdown",
      "source": [
        "Q. Extract the keys and values from the dictionary products."
      ],
      "metadata": {
        "id": "A_bct6ONkWYH"
      }
    },
    {
      "cell_type": "markdown",
      "source": [
        "\n",
        "\n",
        "*   keys() and values() are methods of a dictionary to extract the lists of dictionary keys and dictionary values respectively\n",
        "\n"
      ],
      "metadata": {
        "id": "LfHgoWqXke1_"
      }
    },
    {
      "cell_type": "code",
      "source": [
        "# keys of a dictionary\n",
        "keys = products.keys()\n",
        "print(\"The keys of the dictionary are :\\n\", keys)\n",
        "# values of a dictionary\n",
        "values = products.values()\n",
        "print(\"The values of the dictionary are :\\n\", values)"
      ],
      "metadata": {
        "colab": {
          "base_uri": "https://localhost:8080/"
        },
        "id": "qHGj1x9Gi8nS",
        "outputId": "a7786be1-3dde-46f6-8797-93fa6f06b18b"
      },
      "execution_count": null,
      "outputs": [
        {
          "output_type": "stream",
          "name": "stdout",
          "text": [
            "The keys of the dictionary are :\n",
            " dict_keys(['Brand', 'RAM (in GB)', 'Storage (in GB)', 'Price (in $)'])\n",
            "The values of the dictionary are :\n",
            " dict_values([['Apple', 'Samsung', 'LG', 'Motorola'], [4, 12, 8, 8], [128, 128, 64, 128], [900, 899, 600, 1000]])\n"
          ]
        }
      ]
    },
    {
      "cell_type": "code",
      "source": [
        "products[\"RAM (in GB)\"][1]"
      ],
      "metadata": {
        "colab": {
          "base_uri": "https://localhost:8080/"
        },
        "id": "QST8-tu4lCgE",
        "outputId": "daf76742-2013-47f8-93c1-cccd28e1f8dd"
      },
      "execution_count": null,
      "outputs": [
        {
          "output_type": "execute_result",
          "data": {
            "text/plain": [
              "12"
            ]
          },
          "metadata": {},
          "execution_count": 95
        }
      ]
    },
    {
      "cell_type": "code",
      "source": [],
      "metadata": {
        "id": "ttpZ3tq_mroG"
      },
      "execution_count": null,
      "outputs": []
    }
  ]
}